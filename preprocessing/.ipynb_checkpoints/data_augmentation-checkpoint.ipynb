{
 "cells": [
  {
   "cell_type": "code",
   "execution_count": 49,
   "metadata": {},
   "outputs": [],
   "source": [
    "import Augmentor\n",
    "folder_path = '../aug_data/color'"
   ]
  },
  {
   "cell_type": "code",
   "execution_count": 56,
   "metadata": {},
   "outputs": [],
   "source": [
    "def augmentation(img_path, get_img):\n",
    "    p = Augmentor.Pipeline(img_path)\n",
    "    p.rotate(probability=0.8, max_left_rotation=25, max_right_rotation=25)\n",
    "    p.zoom(probability=0.5, min_factor=1.1, max_factor=1.5)\n",
    "    p.flip_left_right(probability=0.5)\n",
    "    p.flip_top_bottom(probability=0.5)\n",
    "    p.skew(probability=0.5)\n",
    "    # p.random_distortion(probability=1, grid_width=256, grid_height=128, magnitude=8)\n",
    "    p.sample(get_img)"
   ]
  },
  {
   "cell_type": "code",
   "execution_count": 58,
   "metadata": {},
   "outputs": [
    {
     "name": "stdout",
     "output_type": "stream",
     "text": [
      "Initialised with 666 image(s) found.\n",
      "Output directory set to ../aug_data/color\\0\\output."
     ]
    },
    {
     "name": "stderr",
     "output_type": "stream",
     "text": [
      "Processing <PIL.Image.Image image mode=RGB size=512x512 at 0x22CEAB9FF98>:  99%|▉| 7901/8000 [00:52<00:00, 1305.37 Samples/s]                  IOPub message rate exceeded.\n",
      "The notebook server will temporarily stop sending output\n",
      "to the client in order to avoid crashing it.\n",
      "To change this limit, set the config variable\n",
      "`--NotebookApp.iopub_msg_rate_limit`.\n",
      "\n",
      "Current values:\n",
      "NotebookApp.iopub_msg_rate_limit=1000.0 (msgs/sec)\n",
      "NotebookApp.rate_limit_window=3.0 (secs)\n",
      "\n",
      "Processing <PIL.Image.Image image mode=RGB size=512x512 at 0x22CFB6B0B38>: 100%|█| 8000/8000 [00:55<00:00, 144.55 Samples/s]                   \n"
     ]
    },
    {
     "name": "stdout",
     "output_type": "stream",
     "text": [
      "Initialised with 2915 image(s) found.\n",
      "Output directory set to ../aug_data/color\\2\\output."
     ]
    },
    {
     "name": "stderr",
     "output_type": "stream",
     "text": [
      "Processing <PIL.Image.Image image mode=RGB size=512x512 at 0x22CDBD16860>: 100%|█| 8000/8000 [00:54<00:00, 147.14 Samples/s]                   \n"
     ]
    },
    {
     "name": "stdout",
     "output_type": "stream",
     "text": [
      "Initialised with 914 image(s) found.\n",
      "Output directory set to ../aug_data/color\\3\\output."
     ]
    },
    {
     "name": "stderr",
     "output_type": "stream",
     "text": [
      "Processing <PIL.Image.Image image mode=RGB size=512x512 at 0x22CD8650FD0>: 100%|█| 8000/8000 [00:54<00:00, 147.48 Samples/s]                  \n"
     ]
    },
    {
     "name": "stdout",
     "output_type": "stream",
     "text": [
      "Initialised with 1015 image(s) found.\n",
      "Output directory set to ../aug_data/color\\4\\output."
     ]
    },
    {
     "name": "stderr",
     "output_type": "stream",
     "text": [
      "Processing <PIL.Image.Image image mode=RGB size=512x512 at 0x22CDBCF0F98>: 100%|█| 8000/8000 [00:54<00:00, 147.18 Samples/s]                   \n"
     ]
    },
    {
     "name": "stdout",
     "output_type": "stream",
     "text": [
      "Initialised with 114 image(s) found.\n",
      "Output directory set to ../aug_data/color\\5\\output."
     ]
    },
    {
     "name": "stderr",
     "output_type": "stream",
     "text": [
      "Processing <PIL.Image.Image image mode=RGB size=512x512 at 0x22CD864C198>: 100%|█| 8000/8000 [00:54<00:00, 146.98 Samples/s]                   \n"
     ]
    },
    {
     "name": "stdout",
     "output_type": "stream",
     "text": [
      "Initialised with 1230 image(s) found.\n",
      "Output directory set to ../aug_data/color\\6\\output."
     ]
    },
    {
     "name": "stderr",
     "output_type": "stream",
     "text": [
      "Processing <PIL.Image.Image image mode=RGB size=512x512 at 0x22CD02106A0>: 100%|█| 8000/8000 [00:54<00:00, 146.85 Samples/s]                   \n"
     ]
    },
    {
     "name": "stdout",
     "output_type": "stream",
     "text": [
      "Initialised with 34 image(s) found.\n",
      "Output directory set to ../aug_data/color\\7\\output."
     ]
    },
    {
     "name": "stderr",
     "output_type": "stream",
     "text": [
      "Processing <PIL.Image.Image image mode=RGB size=512x512 at 0x22C9ACC1748>: 100%|█| 8000/8000 [00:54<00:00, 146.19 Samples/s]                   \n"
     ]
    },
    {
     "name": "stdout",
     "output_type": "stream",
     "text": [
      "Initialised with 133 image(s) found.\n",
      "Output directory set to ../aug_data/color\\8\\output."
     ]
    },
    {
     "name": "stderr",
     "output_type": "stream",
     "text": [
      "Processing <PIL.Image.Image image mode=RGB size=512x512 at 0x22CB137D1D0>: 100%|█| 8000/8000 [00:54<00:00, 146.72 Samples/s]                   \n"
     ]
    },
    {
     "name": "stdout",
     "output_type": "stream",
     "text": [
      "Initialised with 2215 image(s) found.\n",
      "Output directory set to ../aug_data/color\\9\\output."
     ]
    },
    {
     "name": "stderr",
     "output_type": "stream",
     "text": [
      "Processing <PIL.Image.Image image mode=RGB size=512x512 at 0x22C9F322940>: 100%|█| 8000/8000 [00:54<00:00, 146.71 Samples/s]                  \n"
     ]
    },
    {
     "name": "stdout",
     "output_type": "stream",
     "text": [
      "Initialised with 74 image(s) found.\n",
      "Output directory set to ../aug_data/color\\10\\output."
     ]
    },
    {
     "name": "stderr",
     "output_type": "stream",
     "text": [
      "Processing <PIL.Image.Image image mode=RGB size=512x512 at 0x22CBDB7CC88>: 100%|█| 8000/8000 [00:54<00:00, 145.79 Samples/s]                   \n"
     ]
    },
    {
     "name": "stdout",
     "output_type": "stream",
     "text": [
      "Initialised with 1531 image(s) found.\n",
      "Output directory set to ../aug_data/color\\11\\output."
     ]
    },
    {
     "name": "stderr",
     "output_type": "stream",
     "text": [
      "Processing <PIL.Image.Image image mode=RGB size=512x512 at 0x22C9947E898>:  99%|▉| 7955/8000 [00:54<00:00, 1222.10 Samples/s]                  IOPub message rate exceeded.\n",
      "The notebook server will temporarily stop sending output\n",
      "to the client in order to avoid crashing it.\n",
      "To change this limit, set the config variable\n",
      "`--NotebookApp.iopub_msg_rate_limit`.\n",
      "\n",
      "Current values:\n",
      "NotebookApp.iopub_msg_rate_limit=1000.0 (msgs/sec)\n",
      "NotebookApp.rate_limit_window=3.0 (secs)\n",
      "\n",
      "Processing <PIL.Image.Image image mode=RGB size=512x512 at 0x22C9580C2B0>:  98%|▉| 7834/8000 [00:55<00:00, 1283.64 Samples/s]                  IOPub message rate exceeded.\n",
      "The notebook server will temporarily stop sending output\n",
      "to the client in order to avoid crashing it.\n",
      "To change this limit, set the config variable\n",
      "`--NotebookApp.iopub_msg_rate_limit`.\n",
      "\n",
      "Current values:\n",
      "NotebookApp.iopub_msg_rate_limit=1000.0 (msgs/sec)\n",
      "NotebookApp.rate_limit_window=3.0 (secs)\n",
      "\n",
      "Processing <PIL.Image.Image image mode=RGB size=512x512 at 0x22CEADE30B8>:  92%|▉| 7390/8000 [00:56<00:00, 1259.87 Samples/s]                  IOPub message rate exceeded.\n",
      "The notebook server will temporarily stop sending output\n",
      "to the client in order to avoid crashing it.\n",
      "To change this limit, set the config variable\n",
      "`--NotebookApp.iopub_msg_rate_limit`.\n",
      "\n",
      "Current values:\n",
      "NotebookApp.iopub_msg_rate_limit=1000.0 (msgs/sec)\n",
      "NotebookApp.rate_limit_window=3.0 (secs)\n",
      "\n"
     ]
    },
    {
     "name": "stdout",
     "output_type": "stream",
     "text": [
      "Initialised with 8151 image(s) found.\n",
      "Output directory set to ../aug_data/color\\14\\output."
     ]
    },
    {
     "name": "stderr",
     "output_type": "stream",
     "text": [
      "Processing <PIL.Image.Image image mode=RGB size=512x512 at 0x22C86C592E8>:  99%|▉| 7900/8000 [00:57<00:00, 1287.65 Samples/s]                  IOPub message rate exceeded.\n",
      "The notebook server will temporarily stop sending output\n",
      "to the client in order to avoid crashing it.\n",
      "To change this limit, set the config variable\n",
      "`--NotebookApp.iopub_msg_rate_limit`.\n",
      "\n",
      "Current values:\n",
      "NotebookApp.iopub_msg_rate_limit=1000.0 (msgs/sec)\n",
      "NotebookApp.rate_limit_window=3.0 (secs)\n",
      "\n",
      "Processing <PIL.Image.Image image mode=RGB size=512x512 at 0x22CE462FFD0>:  98%|▉| 7835/8000 [00:57<00:00, 1329.94 Samples/s]                  IOPub message rate exceeded.\n",
      "The notebook server will temporarily stop sending output\n",
      "to the client in order to avoid crashing it.\n",
      "To change this limit, set the config variable\n",
      "`--NotebookApp.iopub_msg_rate_limit`.\n",
      "\n",
      "Current values:\n",
      "NotebookApp.iopub_msg_rate_limit=1000.0 (msgs/sec)\n",
      "NotebookApp.rate_limit_window=3.0 (secs)\n",
      "\n"
     ]
    }
   ],
   "source": [
    "folder_list = os.listdir(folder_path)\n",
    "for i in range(len(folder_list)):\n",
    "    IMG_PATH = os.path.join(folder_path, str(i))\n",
    "#     GET_IMG = 8000//len(os.listdir(IMG_PATH))\n",
    "    GET_IMG = 8000\n",
    "    augmentation(IMG_PATH, GET_IMG)"
   ]
  },
  {
   "cell_type": "code",
   "execution_count": null,
   "metadata": {},
   "outputs": [],
   "source": []
  },
  {
   "cell_type": "code",
   "execution_count": null,
   "metadata": {},
   "outputs": [],
   "source": [
    "# import os\n",
    "# import random\n",
    "# from scipy import ndarray\n",
    "\n",
    "# # image processing library\n",
    "# import skimage as sk\n",
    "# from skimage import transform\n",
    "# from skimage import util\n",
    "# from skimage import io\n",
    "\n",
    "# import warnings\n",
    "# warnings.filterwarnings('ignore')\n",
    "\n",
    "# # from skimage.transform import AffineTransform, warp\n",
    "\n",
    "# # def shift(image, vector):\n",
    "# #     transform = AffineTransform(translation=vector)\n",
    "# #     shifted = warp(image, transform, mode='wrap', preserve_range=True)\n",
    "# #     shifted = shifted.astype(image.dtype)\n",
    "\n",
    "# def random_rotation(image_array: ndarray):\n",
    "#     # pick a random degree of rotation between 25% on the left and 25% on the right\n",
    "#     random_degree = random.uniform(-180, 180)\n",
    "#     return sk.transform.rotate(image_array, random_degree)\n",
    "\n",
    "# def random_noise(image_array: ndarray):\n",
    "#     # add random noise to the image\n",
    "#     return sk.util.random_noise(image_array)\n",
    "\n",
    "# def horizontal_flip(image_array: ndarray):\n",
    "#     # horizontal flip doesn't need skimage, it's easy as flipping the image array of pixels !\n",
    "#     return image_array[:, ::-1]\n",
    "\n",
    "# # dictionary of the transformations we defined earlier\n",
    "# available_transformations = {\n",
    "#     'rotate': random_rotation,\n",
    "# #     'noise': random_noise,\n",
    "#     'horizontal_flip': horizontal_flip\n",
    "# }\n",
    "\n",
    "# folder_path = '../aug_data/color'\n",
    "# folder_list = os.listdir(folder_path)\n",
    "\n",
    "# # num_generated_files = 0\n",
    "# for i in range(len(folder_list)):\n",
    "#     image_list = os.path.join(folder_path, folder_list[i])\n",
    "#     images = [os.path.join(image_list, f) for f in os.listdir(image_list) \n",
    "#               if os.path.isfile(os.path.join(image_list, f))]\n",
    "#     num_files_desired = int(80000/len(images))\n",
    "#     for image_name in images:\n",
    "#         num_generated_files = 0\n",
    "#         for j in range(num_files_desired):  \n",
    "#             # read image as an two dimensional array of pixels\n",
    "#             image_to_transform = sk.io.imread(image_name)\n",
    "#             # random num of transformation to apply\n",
    "#             num_transformations_to_apply = random.randint(1, len(available_transformations))\n",
    "            \n",
    "#             transformed_image = None\n",
    "#             # random transformation to apply for a single image\n",
    "#             key = random.choice(list(available_transformations))\n",
    "#             transformed_image = available_transformations[key](image_to_transform)\n",
    "            \n",
    "#             new_file_path = '../aug_data/color/%s/%s_%s.jpg' % (folder_list[i], image_name[-13:-4], num_generated_files)\n",
    "#             io.imsave(new_file_path, transformed_image)\n",
    "#             num_generated_files += 1\n",
    "#             print(j)\n",
    "\n",
    "\n"
   ]
  }
 ],
 "metadata": {
  "kernelspec": {
   "display_name": "Python 3",
   "language": "python",
   "name": "python3"
  },
  "language_info": {
   "codemirror_mode": {
    "name": "ipython",
    "version": 3
   },
   "file_extension": ".py",
   "mimetype": "text/x-python",
   "name": "python",
   "nbconvert_exporter": "python",
   "pygments_lexer": "ipython3",
   "version": "3.7.3"
  }
 },
 "nbformat": 4,
 "nbformat_minor": 2
}
