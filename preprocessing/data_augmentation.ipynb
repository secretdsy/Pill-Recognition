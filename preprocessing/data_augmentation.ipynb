{
 "cells": [
  {
   "cell_type": "code",
   "execution_count": 7,
   "metadata": {},
   "outputs": [],
   "source": [
    "import Augmentor\n",
    "import os\n",
    "folder_path = '../aug_data/shape'"
   ]
  },
  {
   "cell_type": "code",
   "execution_count": 10,
   "metadata": {},
   "outputs": [],
   "source": [
    "def augmentation(img_path, get_img):\n",
    "    p = Augmentor.Pipeline(img_path)\n",
    "    p.rotate(probability=0.8, max_left_rotation=25, max_right_rotation=25)\n",
    "    p.zoom(probability=0.5, min_factor=1.05, max_factor=1.15)\n",
    "    p.flip_left_right(probability=0.5)\n",
    "    p.flip_top_bottom(probability=0.5)\n",
    "#     p.skew(probability=0.5)\n",
    "    # p.random_distortion(probability=1, grid_width=256, grid_height=128, magnitude=8)\n",
    "    p.sample(get_img)"
   ]
  },
  {
   "cell_type": "code",
   "execution_count": 11,
   "metadata": {},
   "outputs": [
    {
     "name": "stdout",
     "output_type": "stream",
     "text": [
      "Initialised with 215 image(s) found.\n",
      "Output directory set to ../aug_data/shape\\0\\output."
     ]
    },
    {
     "name": "stderr",
     "output_type": "stream",
     "text": [
      "Processing <PIL.Image.Image image mode=RGB size=512x512 at 0x1F628B9EF28>: 100%|█| 8000/8000 [00:39<00:00, 205.00 Samples/s]                  \n"
     ]
    },
    {
     "name": "stdout",
     "output_type": "stream",
     "text": [
      "Initialised with 191 image(s) found.\n",
      "Output directory set to ../aug_data/shape\\1\\output."
     ]
    },
    {
     "name": "stderr",
     "output_type": "stream",
     "text": [
      "Processing <PIL.Image.Image image mode=RGB size=512x512 at 0x1F62F121EB8>: 100%|█| 8000/8000 [00:41<00:00, 191.16 Samples/s]                  \n"
     ]
    },
    {
     "name": "stdout",
     "output_type": "stream",
     "text": [
      "Initialised with 64 image(s) found.\n",
      "Output directory set to ../aug_data/shape\\2\\output."
     ]
    },
    {
     "name": "stderr",
     "output_type": "stream",
     "text": [
      "Processing <PIL.Image.Image image mode=RGB size=512x512 at 0x1F62AE70320>: 100%|█| 8000/8000 [00:42<00:00, 189.14 Samples/s]                  \n"
     ]
    },
    {
     "name": "stdout",
     "output_type": "stream",
     "text": [
      "Initialised with 52 image(s) found.\n",
      "Output directory set to ../aug_data/shape\\3\\output."
     ]
    },
    {
     "name": "stderr",
     "output_type": "stream",
     "text": [
      "Processing <PIL.Image.Image image mode=RGB size=512x512 at 0x1F62CB97B38>: 100%|█| 8000/8000 [00:41<00:00, 194.54 Samples/s]                  \n"
     ]
    },
    {
     "name": "stdout",
     "output_type": "stream",
     "text": [
      "Initialised with 196 image(s) found.\n",
      "Output directory set to ../aug_data/shape\\4\\output."
     ]
    },
    {
     "name": "stderr",
     "output_type": "stream",
     "text": [
      "Processing <PIL.Image.Image image mode=RGB size=512x512 at 0x1F62A6D0978>:  95%|▉| 7600/8000 [00:39<00:02, 167.53 Samples/s]                  IOPub message rate exceeded.\n",
      "The notebook server will temporarily stop sending output\n",
      "to the client in order to avoid crashing it.\n",
      "To change this limit, set the config variable\n",
      "`--NotebookApp.iopub_msg_rate_limit`.\n",
      "\n",
      "Current values:\n",
      "NotebookApp.iopub_msg_rate_limit=1000.0 (msgs/sec)\n",
      "NotebookApp.rate_limit_window=3.0 (secs)\n",
      "\n",
      "Processing <PIL.Image.Image image mode=RGB size=512x512 at 0x1F62AE8B5C0>: 100%|█| 8000/8000 [00:42<00:00, 190.46 Samples/s]                  \n"
     ]
    },
    {
     "name": "stdout",
     "output_type": "stream",
     "text": [
      "Initialised with 2 image(s) found.\n",
      "Output directory set to ../aug_data/shape\\6\\output."
     ]
    },
    {
     "name": "stderr",
     "output_type": "stream",
     "text": [
      "Processing <PIL.Image.Image image mode=RGB size=512x512 at 0x1F628878E80>: 100%|█| 8000/8000 [00:41<00:00, 194.30 Samples/s]                  \n"
     ]
    },
    {
     "name": "stdout",
     "output_type": "stream",
     "text": [
      "Initialised with 4687 image(s) found.\n",
      "Output directory set to ../aug_data/shape\\7\\output."
     ]
    },
    {
     "name": "stderr",
     "output_type": "stream",
     "text": [
      "Processing <PIL.Image.Image image mode=RGB size=512x512 at 0x1F62A30BE48>: 100%|█| 8000/8000 [00:42<00:00, 190.08 Samples/s]                  \n"
     ]
    },
    {
     "name": "stdout",
     "output_type": "stream",
     "text": [
      "Initialised with 6880 image(s) found.\n",
      "Output directory set to ../aug_data/shape\\8\\output."
     ]
    },
    {
     "name": "stderr",
     "output_type": "stream",
     "text": [
      "Processing <PIL.Image.Image image mode=RGB size=512x512 at 0x1F62A96A780>: 100%|█| 8000/8000 [00:41<00:00, 193.61 Samples/s]                  \n"
     ]
    },
    {
     "name": "stdout",
     "output_type": "stream",
     "text": [
      "Initialised with 26 image(s) found.\n",
      "Output directory set to ../aug_data/shape\\9\\output."
     ]
    },
    {
     "name": "stderr",
     "output_type": "stream",
     "text": [
      "Processing <PIL.Image.Image image mode=RGB size=512x512 at 0x1F629FA35C0>: 100%|█| 8000/8000 [00:41<00:00, 191.40 Samples/s]                  \n"
     ]
    },
    {
     "name": "stdout",
     "output_type": "stream",
     "text": [
      "Initialised with 428 image(s) found.\n",
      "Output directory set to ../aug_data/shape\\10\\output."
     ]
    },
    {
     "name": "stderr",
     "output_type": "stream",
     "text": [
      "Processing <PIL.Image.Image image mode=RGB size=512x512 at 0x1F628B58C18>: 100%|█| 8000/8000 [00:41<00:00, 190.61 Samples/s]                  \n"
     ]
    }
   ],
   "source": [
    "folder_list = os.listdir(folder_path)\n",
    "for i in range(len(folder_list)):\n",
    "    IMG_PATH = os.path.join(folder_path, str(i))\n",
    "    GET_IMG = 8000\n",
    "    augmentation(IMG_PATH, GET_IMG)"
   ]
  },
  {
   "cell_type": "code",
   "execution_count": null,
   "metadata": {},
   "outputs": [],
   "source": []
  },
  {
   "cell_type": "code",
   "execution_count": null,
   "metadata": {},
   "outputs": [],
   "source": [
    "import os\n",
    "import random\n",
    "from scipy import ndarray\n",
    "\n",
    "# image processing library\n",
    "import skimage as sk\n",
    "from skimage import transform\n",
    "from skimage import util\n",
    "from skimage import io\n",
    "\n",
    "import warnings\n",
    "warnings.filterwarnings('ignore')\n",
    "\n",
    "# from skimage.transform import AffineTransform, warp\n",
    "\n",
    "# def shift(image, vector):\n",
    "#     transform = AffineTransform(translation=vector)\n",
    "#     shifted = warp(image, transform, mode='wrap', preserve_range=True)\n",
    "#     shifted = shifted.astype(image.dtype)\n",
    "\n",
    "def random_rotation(image_array: ndarray):\n",
    "    # pick a random degree of rotation between 25% on the left and 25% on the right\n",
    "    random_degree = random.uniform(-180, 180)\n",
    "    return sk.transform.rotate(image_array, random_degree)\n",
    "\n",
    "def random_noise(image_array: ndarray):\n",
    "    # add random noise to the image\n",
    "    return sk.util.random_noise(image_array)\n",
    "\n",
    "def horizontal_flip(image_array: ndarray):\n",
    "    # horizontal flip doesn't need skimage, it's easy as flipping the image array of pixels !\n",
    "    return image_array[:, ::-1]\n",
    "\n",
    "# dictionary of the transformations we defined earlier\n",
    "available_transformations = {\n",
    "    'rotate': random_rotation,\n",
    "#     'noise': random_noise,\n",
    "    'horizontal_flip': horizontal_flip\n",
    "}\n",
    "\n",
    "folder_path = '../aug_data/color'\n",
    "folder_list = os.listdir(folder_path)\n",
    "\n",
    "# num_generated_files = 0\n",
    "for i in range(len(folder_list)):\n",
    "    image_list = os.path.join(folder_path, folder_list[i])\n",
    "    images = [os.path.join(image_list, f) for f in os.listdir(image_list) \n",
    "              if os.path.isfile(os.path.join(image_list, f))]\n",
    "    num_files_desired = int(80000/len(images))\n",
    "    for image_name in images:\n",
    "        num_generated_files = 0\n",
    "        for j in range(num_files_desired):  \n",
    "            # read image as an two dimensional array of pixels\n",
    "            image_to_transform = sk.io.imread(image_name)\n",
    "            # random num of transformation to apply\n",
    "            num_transformations_to_apply = random.randint(1, len(available_transformations))\n",
    "            \n",
    "            transformed_image = None\n",
    "            # random transformation to apply for a single image\n",
    "            key = random.choice(list(available_transformations))\n",
    "            transformed_image = available_transformations[key](image_to_transform)\n",
    "            \n",
    "            new_file_path = '../aug_data/color/%s/%s_%s.jpg' % (folder_list[i], image_name[-13:-4], num_generated_files)\n",
    "            io.imsave(new_file_path, transformed_image)\n",
    "            num_generated_files += 1\n",
    "            print(j)\n",
    "\n",
    "\n"
   ]
  }
 ],
 "metadata": {
  "kernelspec": {
   "display_name": "Python 3",
   "language": "python",
   "name": "python3"
  },
  "language_info": {
   "codemirror_mode": {
    "name": "ipython",
    "version": 3
   },
   "file_extension": ".py",
   "mimetype": "text/x-python",
   "name": "python",
   "nbconvert_exporter": "python",
   "pygments_lexer": "ipython3",
   "version": "3.7.3"
  }
 },
 "nbformat": 4,
 "nbformat_minor": 2
}
