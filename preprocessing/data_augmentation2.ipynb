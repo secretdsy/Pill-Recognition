{
 "cells": [
  {
   "cell_type": "code",
   "execution_count": 94,
   "metadata": {},
   "outputs": [],
   "source": [
    "import os\n",
    "import cv2\n",
    "from skimage.exposure import rescale_intensity\n",
    "from skimage.segmentation import slic\n",
    "from skimage.util import img_as_float\n",
    "from skimage import io\n",
    "import numpy as np\n",
    "from random import *\n",
    "import warnings\n",
    "warnings.filterwarnings('ignore')\n",
    "\n",
    "def add_light(image):\n",
    "    random_gamma = randint(8, 20) / 10\n",
    "    invGamma = 1.0 / random_gamma\n",
    "    table = np.array([((i / 255.0) ** invGamma) * 255\n",
    "                      for i in np.arange(0, 256)]).astype(\"uint8\")\n",
    "\n",
    "    image=cv2.LUT(image, table)\n",
    "    return image\n",
    "\n",
    "def rotate_image(image):\n",
    "    random_deg = randint(10, 360)\n",
    "    rows, cols,c = image.shape\n",
    "    M = cv2.getRotationMatrix2D((cols/2,rows/2), random_deg, 1)\n",
    "    image = cv2.warpAffine(image, M, (cols, rows))\n",
    "    return image\n",
    "\n",
    "    \n",
    "# def contrast_image(image):\n",
    "#     random_contrast = randint(0, 50,)\n",
    "#     image = cv2.cvtColor(image, cv2.COLOR_BGR2HSV)\n",
    "#     image[:,:,2] = [[max(pixel - random_contrast, 0) if pixel < 190 \n",
    "#                      else min(pixel + random_contrast, 255) \n",
    "#                      for pixel in row] for row in image[:,:,2]]\n",
    "#     image= cv2.cvtColor(image, cv2.COLOR_HSV2BGR)\n",
    "\n",
    "    \n",
    "def gausian_blur(image):\n",
    "    random_blur = randint(1, 40) / 10\n",
    "    image = cv2.GaussianBlur(image,(5,5),random_blur)\n",
    "    return image"
   ]
  },
  {
   "cell_type": "code",
   "execution_count": 96,
   "metadata": {},
   "outputs": [],
   "source": [
    "folder_path = '../aug_data/color'\n",
    "folder_list = os.listdir(folder_path)\n",
    "\n",
    "for i in range(len(folder_list)):\n",
    "    image_list = os.path.join(folder_path, folder_list[i])\n",
    "    images = [os.path.join(image_list, f) for f in os.listdir(image_list) \n",
    "              if os.path.isfile(os.path.join(image_list, f))]\n",
    "    num_files_desired = int(8000/len(images)) + 1\n",
    "    for image_name in images:\n",
    "        num_generated_files = 0\n",
    "        for j in range(num_files_desired):  \n",
    "            # read image as an two dimensional array of pixels\n",
    "            image=cv2.imread(image_name)\n",
    "            transformed_image = None\n",
    "            transformed_image = rotate_image(image)\n",
    "            transformed_image = add_light(transformed_image)\n",
    "            transformed_image = gausian_blur(transformed_image)\n",
    "            new_file_path = '../aug_data/aug_color2/%s/%s_%s.jpg' % (folder_list[i], image_name[-13:-4], num_generated_files)\n",
    "            cv2.imwrite(new_file_path, transformed_image)\n",
    "            num_generated_files += 1"
   ]
  },
  {
   "cell_type": "code",
   "execution_count": null,
   "metadata": {},
   "outputs": [],
   "source": []
  }
 ],
 "metadata": {
  "kernelspec": {
   "display_name": "Python 3",
   "language": "python",
   "name": "python3"
  },
  "language_info": {
   "codemirror_mode": {
    "name": "ipython",
    "version": 3
   },
   "file_extension": ".py",
   "mimetype": "text/x-python",
   "name": "python",
   "nbconvert_exporter": "python",
   "pygments_lexer": "ipython3",
   "version": "3.7.3"
  }
 },
 "nbformat": 4,
 "nbformat_minor": 2
}
