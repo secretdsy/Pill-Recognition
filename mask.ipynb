{
 "cells": [
  {
   "cell_type": "code",
   "execution_count": 6,
   "metadata": {},
   "outputs": [],
   "source": [
    "import pandas as pd\n",
    "import os\n",
    "import urllib\n",
    "import pdb\n",
    "import cv2\n",
    "import numpy as np\n",
    "from matplotlib import pyplot as plt\n",
    "\n",
    "IMAGE_ROOT = './image'\n",
    "MASK_ROOT = './mask'\n",
    "def mkMask(img_root, mask_root):\n",
    "    garbage = []\n",
    "    back_image = cv2.imread('./background.jpg')\n",
    "    hsv = cv2.cvtColor(back_image,cv2.COLOR_BGR2HSV)\n",
    "    \n",
    "    for idx, img_name in enumerate(os.listdir(img_root)):\n",
    "        path = os.path.join(img_root, img_name)\n",
    "        path2 = os.path.join(mask_root, img_name)\n",
    "        img = cv2.imread(path)\n",
    "        \n",
    "        target = cv2.imread(path)\n",
    "        #hsvt = cv2.cvtColor(target,cv2.COLOR_BGR2HSV)\n",
    "        \n",
    "        try:\n",
    "            hsvt = cv2.cvtColor(target,cv2.COLOR_BGR2HSV)\n",
    "        except Exception as e:\n",
    "            print(img_name)\n",
    "            garbage.append(img_name)\n",
    "            #print(garbage)\n",
    "            continue\n",
    "        \n",
    "        \n",
    "        M = cv2.calcHist([hsv],[0, 1], None, [180, 256], [0, 180, 0, 256] )\n",
    "        I = cv2.calcHist([hsvt],[0, 1], None, [180, 256], [0, 180, 0, 256] )\n",
    "        R = M/(I+1)\n",
    "        \n",
    "        h,s,v = cv2.split(hsvt)\n",
    "        B = R[h.ravel(),s.ravel()]\n",
    "        B = np.minimum(B,1)\n",
    "        B = B.reshape(hsvt.shape[:2])\n",
    "        \n",
    "        disc = cv2.getStructuringElement(cv2.MORPH_ELLIPSE,(5,5))\n",
    "        cv2.filter2D(B,-1,disc,B)\n",
    "        B = np.uint8(B)\n",
    "        cv2.normalize(B,B,0,255,cv2.NORM_MINMAX)\n",
    "        ret,thresh = cv2.threshold(B,50,255,0)\n",
    "        thresh = cv2.merge((thresh,thresh,thresh))\n",
    "        thresh = cv2.bitwise_not(thresh)\n",
    "        res = cv2.bitwise_and(target,thresh)\n",
    "        \n",
    "        cv2.imwrite(path2, res)\n",
    "        \n"
   ]
  },
  {
   "cell_type": "code",
   "execution_count": 7,
   "metadata": {},
   "outputs": [
    {
     "name": "stdout",
     "output_type": "stream",
     "text": [
      "image.zip\n",
      ".ipynb_checkpoints\n"
     ]
    }
   ],
   "source": [
    "mkMask(IMAGE_ROOT, MASK_ROOT)"
   ]
  },
  {
   "cell_type": "code",
   "execution_count": null,
   "metadata": {},
   "outputs": [],
   "source": []
  }
 ],
 "metadata": {
  "kernelspec": {
   "display_name": "Python 3",
   "language": "python",
   "name": "python3"
  },
  "language_info": {
   "codemirror_mode": {
    "name": "ipython",
    "version": 3
   },
   "file_extension": ".py",
   "mimetype": "text/x-python",
   "name": "python",
   "nbconvert_exporter": "python",
   "pygments_lexer": "ipython3",
   "version": "3.5.2"
  }
 },
 "nbformat": 4,
 "nbformat_minor": 2
}
