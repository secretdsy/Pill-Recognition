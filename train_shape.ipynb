{
 "cells": [
  {
   "cell_type": "code",
   "execution_count": 46,
   "metadata": {},
   "outputs": [],
   "source": [
    "import pandas as pd\n",
    "import os\n",
    "import urllib\n",
    "import pdb\n",
    "import cv2\n",
    "import numpy as np\n",
    "import math\n",
    "from matplotlib import pyplot as plt\n",
    "\n",
    "from keras import layers, models\n",
    "from keras.applications import VGG16\n",
    "from keras import Input\n",
    "from keras.models import Model\n",
    "from keras.models import Sequential\n",
    "from keras.preprocessing.image import ImageDataGenerator\n",
    "from keras import optimizers, initializers, regularizers, metrics\n",
    "from keras.callbacks import ModelCheckpoint\n",
    "from keras_preprocessing.image import ImageDataGenerator\n",
    "\n",
    "from keras.layers import Conv2D, MaxPooling2D\n",
    "from keras.layers import Dense, Dropout, Activation, Flatten\n",
    "from keras.layers import Conv2D, MaxPooling2D\n",
    "from keras.utils import np_utils"
   ]
  },
  {
   "cell_type": "code",
   "execution_count": 3,
   "metadata": {},
   "outputs": [
    {
     "data": {
      "text/plain": [
       "\"\\n0 = '빨강'\\n1 = '주황'\\n2 = '노랑'\\n3 = '연두'\\n4 = '초록'\\n5 = '청록'\\n6 = '파랑'\\n7 = '남색'\\n8 = '보라'\\n9 = '분홍'\\n10 = '자주'\\n11 = '갈색'\\n12 = '회색'\\n13 = '검정'\\n14 = '하양'\\n15 = '투명'\\n\""
      ]
     },
     "execution_count": 3,
     "metadata": {},
     "output_type": "execute_result"
    }
   ],
   "source": [
    "# SHAPE INIT\n",
    "\"\"\"\n",
    "0= '삼각형'\n",
    "1 = '사각형'\n",
    "2 = '오각형'\n",
    "3 = '육각형'\n",
    "4 = '팔각형'\n",
    "5 = '원형'\n",
    "6 = '반원형'\n",
    "7 = '타원형'\n",
    "8 = '장방형'\n",
    "9 = '마름모형'\n",
    "10 = '기타'\n",
    "\"\"\"\n",
    "\n",
    "# COLOR INIT\n",
    "\"\"\"\n",
    "0 = '빨강'\n",
    "1 = '주황'\n",
    "2 = '노랑'\n",
    "3 = '연두'\n",
    "4 = '초록'\n",
    "5 = '청록'\n",
    "6 = '파랑'\n",
    "7 = '남색'\n",
    "8 = '보라'\n",
    "9 = '분홍'\n",
    "10 = '자주'\n",
    "11 = '갈색'\n",
    "12 = '회색'\n",
    "13 = '검정'\n",
    "14 = '하양'\n",
    "15 = '투명'\n",
    "\"\"\""
   ]
  },
  {
   "cell_type": "code",
   "execution_count": 4,
   "metadata": {},
   "outputs": [
    {
     "data": {
      "text/plain": [
       "{'기타': 10,\n",
       " '마름모형': 9,\n",
       " '반원형': 6,\n",
       " '사각형': 1,\n",
       " '삼각형': 0,\n",
       " '오각형': 2,\n",
       " '원형': 5,\n",
       " '육각형': 3,\n",
       " '장방형': 8,\n",
       " '타원형': 7,\n",
       " '팔각형': 4}"
      ]
     },
     "execution_count": 4,
     "metadata": {},
     "output_type": "execute_result"
    }
   ],
   "source": [
    "shape_label = {'삼각형': 0, '사각형': 1, '오각형': 2, '육각형': 3, '팔각형': 4, \n",
    "               '원형': 5, '반원형': 6, '타원형': 7, '장방형': 8, '마름모형': 9, '기타': 10}\n",
    "shape_label"
   ]
  },
  {
   "cell_type": "code",
   "execution_count": 7,
   "metadata": {},
   "outputs": [],
   "source": [
    "\"\"\"\n",
    "label_path = './label/label_shape.xls'\n",
    "xls = pd.read_excel(label_path)\n",
    "df1 = pd.DataFrame(xls)\n",
    "#print(df1)\n",
    "\n",
    "df2 = df1[df1.columns[-1]].map(shape_label)\n",
    "df2 = pd.DataFrame(df2)\n",
    "df1['shape'] = df2['shape']\n",
    "#print(df1)\n",
    "\n",
    "# cvs 파일로 만들기\n",
    "\n",
    "type(df1)\n",
    "df1.to_csv(\"./label/shape.csv\", mode='w')\n",
    "\"\"\"\n",
    "\n",
    "dataset = pd.read_csv(\"./label/shape.csv\")"
   ]
  },
  {
   "cell_type": "code",
   "execution_count": 47,
   "metadata": {},
   "outputs": [
    {
     "name": "stdout",
     "output_type": "stream",
     "text": [
      "Found 16767 images belonging to 11 classes.\n",
      "Found 4192 images belonging to 11 classes.\n"
     ]
    }
   ],
   "source": [
    "datagen=ImageDataGenerator(rescale=1./255, validation_split=0.2)\n",
    "train_generator=datagen.flow_from_dataframe(dataframe=dataset,\n",
    "                                            directory=\"./mask/\",\n",
    "                                            x_col=\"No\",\n",
    "                                            y_col=\"shape\",\n",
    "                                            has_ext=False,\n",
    "                                            subset=\"training\",\n",
    "                                            class_mode=\"categorical\",\n",
    "                                            target_size=(224,224),\n",
    "                                            batch_size=32)\n",
    "\n",
    "valid_generator=datagen.flow_from_dataframe(dataframe=dataset,\n",
    "                                            directory=\"./mask/\",\n",
    "                                            x_col=\"No\",\n",
    "                                            y_col=\"shape\",\n",
    "                                            has_ext=False,\n",
    "                                            subset=\"validation\",\n",
    "                                            class_mode=\"categorical\",\n",
    "                                            target_size=(224,224),\n",
    "                                            batch_size=32)"
   ]
  },
  {
   "cell_type": "code",
   "execution_count": 42,
   "metadata": {},
   "outputs": [
    {
     "name": "stdout",
     "output_type": "stream",
     "text": [
      "Epoch 1/10\n",
      "523/523 [==============================] - 263s 503ms/step - loss: 0.6607 - acc: 0.7771 - val_loss: 0.3364 - val_acc: 0.9027\n",
      "Epoch 2/10\n",
      "523/523 [==============================] - 256s 489ms/step - loss: 0.4312 - acc: 0.8624 - val_loss: 0.2974 - val_acc: 0.9346\n",
      "Epoch 3/10\n",
      "523/523 [==============================] - 256s 489ms/step - loss: 0.3606 - acc: 0.8859 - val_loss: 0.2412 - val_acc: 0.9468\n",
      "Epoch 4/10\n",
      "523/523 [==============================] - 256s 489ms/step - loss: 0.3193 - acc: 0.9005 - val_loss: 0.2300 - val_acc: 0.9389\n",
      "Epoch 5/10\n",
      "523/523 [==============================] - 256s 489ms/step - loss: 0.2908 - acc: 0.9057 - val_loss: 0.2281 - val_acc: 0.9442\n",
      "Epoch 6/10\n",
      "523/523 [==============================] - 255s 489ms/step - loss: 0.2646 - acc: 0.9159 - val_loss: 0.2036 - val_acc: 0.9523\n",
      "Epoch 7/10\n",
      "523/523 [==============================] - 256s 489ms/step - loss: 0.2450 - acc: 0.9163 - val_loss: 0.2156 - val_acc: 0.9473\n",
      "Epoch 8/10\n",
      "523/523 [==============================] - 255s 489ms/step - loss: 0.2351 - acc: 0.9222 - val_loss: 0.1913 - val_acc: 0.9532\n",
      "Epoch 9/10\n",
      "523/523 [==============================] - 255s 488ms/step - loss: 0.2231 - acc: 0.9276 - val_loss: 0.2489 - val_acc: 0.9456\n",
      "Epoch 10/10\n",
      "523/523 [==============================] - 256s 489ms/step - loss: 0.2121 - acc: 0.9296 - val_loss: 0.1840 - val_acc: 0.9578\n"
     ]
    },
    {
     "data": {
      "text/plain": [
       "<keras.callbacks.History at 0x7f0c2b2b9cc0>"
      ]
     },
     "execution_count": 42,
     "metadata": {},
     "output_type": "execute_result"
    }
   ],
   "source": [
    "\"\"\"\n",
    "model = Sequential()\n",
    "model.add(Conv2D(32, (3, 3), padding='same',\n",
    "                 input_shape=(32,32,3)))\n",
    "model.add(Activation('relu'))\n",
    "model.add(Conv2D(32, (3, 3)))\n",
    "model.add(Activation('relu'))\n",
    "model.add(MaxPooling2D(pool_size=(2, 2)))\n",
    "model.add(Dropout(0.25))\n",
    "\n",
    "model.add(Conv2D(64, (3, 3), padding='same'))\n",
    "model.add(Activation('relu'))\n",
    "model.add(Conv2D(64, (3, 3)))\n",
    "model.add(Activation('relu'))\n",
    "model.add(MaxPooling2D(pool_size=(2, 2)))\n",
    "model.add(Dropout(0.25))\n",
    "\n",
    "model.add(Flatten())\n",
    "model.add(Dense(512))\n",
    "model.add(Activation('relu'))\n",
    "model.add(Dropout(0.5))\n",
    "model.add(Dense(11, activation='softmax'))\n",
    "model.compile(loss='categorical_crossentropy',\n",
    "              optimizer='Adadelta',\n",
    "              metrics=['accuracy'])\n",
    "#STEP_SIZE_TRAIN=train_generator.n//train_generator.batch_size\n",
    "#STEP_SIZE_VALID=valid_generator.n//valid_generator.batch_size\n",
    "model.fit_generator(generator=train_generator,\n",
    "                    steps_per_epoch=math.ceil(train_generator.n / train_generator.batch_size),\n",
    "                    validation_data=valid_generator,\n",
    "                    validation_steps=math.ceil(valid_generator.n / valid_generator.batch_size),\n",
    "                    epochs=10)\n",
    "\"\"\""
   ]
  },
  {
   "cell_type": "code",
   "execution_count": null,
   "metadata": {},
   "outputs": [],
   "source": [
    "pre_trained_vgg = VGG16(weights='imagenet', include_top=False, input_shape=(224, 224, 3))\n",
    "pre_trained_vgg.trainable = True\n",
    "pre_trained_vgg.summary()\n",
    " \n",
    "additional_model = models.Sequential()\n",
    "additional_model.add(pre_trained_vgg)\n",
    "additional_model.add(layers.Flatten())\n",
    "#additional_model.add(layers.Dense(4096, activation='relu'))\n",
    "#additional_model.add(layers.Dense(2048, activation='relu'))\n",
    "additional_model.add(layers.Dense(1024, activation='relu'))\n",
    "additional_model.add(layers.Dense(11, activation='softmax'))\n",
    " \n",
    " \n",
    "additional_model.summary()\n",
    " \n",
    " \n",
    "checkpoint = ModelCheckpoint(filepath='pretrained_VGG_weight.hdf5', \n",
    "            monitor='loss', \n",
    "            mode='min', \n",
    "            save_best_only=True)\n",
    " \n",
    "additional_model.compile(loss='categorical_crossentropy', optimizer=optimizers.RMSprop(lr=2e-5), metrics=['acc'])\n",
    " \n",
    " \n",
    "history = additional_model.fit_generator(train_generator, \n",
    "            steps_per_epoch=math.ceil(train_generator.n / train_generator.batch_size), \n",
    "            epochs=10, \n",
    "            validation_data=valid_generator, \n",
    "            validation_steps=math.ceil(valid_generator.n / valid_generator.batch_size), \n",
    "            callbacks=[checkpoint])"
   ]
  },
  {
   "cell_type": "code",
   "execution_count": null,
   "metadata": {},
   "outputs": [],
   "source": [
    "acc = history.history['acc']\n",
    "val_acc = history.history['val_acc']\n",
    "loss = history.history['loss']\n",
    "val_loss = history.history['val_loss']\n",
    " \n",
    "epochs = range(1, len(acc) + 1)\n",
    " \n",
    "plt.plot(epochs, acc, 'b', label='Training acc')\n",
    "plt.plot(epochs, val_acc, 'r', label='Validation acc')\n",
    "plt.title('Accuracy')\n",
    "plt.legend()\n",
    "plt.figure()\n",
    " \n",
    "plt.plot(epochs, loss, 'b', label='Training loss')\n",
    "plt.plot(epochs, val_loss, 'r', label='Validation loss')\n",
    "plt.title('Loss')\n",
    "plt.legend()\n",
    " \n",
    "plt.show()\n"
   ]
  },
  {
   "cell_type": "code",
   "execution_count": null,
   "metadata": {},
   "outputs": [],
   "source": []
  }
 ],
 "metadata": {
  "kernelspec": {
   "display_name": "Python 3",
   "language": "python",
   "name": "python3"
  },
  "language_info": {
   "codemirror_mode": {
    "name": "ipython",
    "version": 3
   },
   "file_extension": ".py",
   "mimetype": "text/x-python",
   "name": "python",
   "nbconvert_exporter": "python",
   "pygments_lexer": "ipython3",
   "version": "3.5.2"
  }
 },
 "nbformat": 4,
 "nbformat_minor": 2
}
