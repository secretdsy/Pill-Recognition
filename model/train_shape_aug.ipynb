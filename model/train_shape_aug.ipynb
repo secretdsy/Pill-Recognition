{
 "cells": [
  {
   "cell_type": "code",
   "execution_count": 11,
   "metadata": {},
   "outputs": [],
   "source": [
    "import pandas as pd\n",
    "import numpy as np\n",
    "import os\n",
    "import cv2\n",
    "import multiprocessing\n",
    "from matplotlib import pyplot as plt\n",
    "\n",
    "import keras\n",
    "from keras import layers, models\n",
    "from keras import Input\n",
    "from keras.models import Model\n",
    "from keras.models import Sequential\n",
    "from keras.preprocessing.image import ImageDataGenerator\n",
    "from keras import optimizers, initializers, regularizers, metrics\n",
    "from keras.callbacks import ModelCheckpoint\n",
    "from keras.layers import Dense, Dropout, Activation, Flatten\n",
    "from keras.utils import np_utils"
   ]
  },
  {
   "cell_type": "code",
   "execution_count": 12,
   "metadata": {},
   "outputs": [
    {
     "data": {
      "text/plain": [
       "{'삼각형': 0,\n",
       " '사각형': 1,\n",
       " '오각형': 2,\n",
       " '육각형': 3,\n",
       " '팔각형': 4,\n",
       " '원형': 5,\n",
       " '반원형': 6,\n",
       " '타원형': 7,\n",
       " '장방형': 8,\n",
       " '마름모형': 9,\n",
       " '기타': 10}"
      ]
     },
     "execution_count": 12,
     "metadata": {},
     "output_type": "execute_result"
    }
   ],
   "source": [
    "shape_label = {'삼각형': 0, '사각형': 1, '오각형': 2, '육각형': 3, '팔각형': 4, \n",
    "               '원형': 5, '반원형': 6, '타원형': 7, '장방형': 8, '마름모형': 9, '기타': 10}\n",
    "shape_label"
   ]
  },
  {
   "cell_type": "code",
   "execution_count": 13,
   "metadata": {},
   "outputs": [],
   "source": [
    "DATA_PATH = '../data/mask_front'\n",
    "LABEL_PATH = '../label'\n",
    "SAVE_PATH = '../save_model'"
   ]
  },
  {
   "cell_type": "code",
   "execution_count": 14,
   "metadata": {},
   "outputs": [],
   "source": [
    "params = {\n",
    "    'img_size': (224, 224),\n",
    "    'input_shape': (224, 224, 3),\n",
    "    'batch_size': 24,\n",
    "    'epochs': 20,\n",
    "    'nb_workers': multiprocessing.cpu_count()\n",
    "}"
   ]
  },
  {
   "cell_type": "code",
   "execution_count": 15,
   "metadata": {},
   "outputs": [
    {
     "name": "stdout",
     "output_type": "stream",
     "text": [
      "Found 70400 images belonging to 11 classes.\n",
      "Found 17600 images belonging to 11 classes.\n"
     ]
    }
   ],
   "source": [
    "train_datagen=ImageDataGenerator(rescale=1./255, validation_split=0.2)\n",
    "\n",
    "train_generator=train_datagen.flow_from_directory(\n",
    "    '../aug_data/aug_shape/',\n",
    "    subset='training',\n",
    "    class_mode='categorical',\n",
    "    target_size=params['img_size'],\n",
    "    batch_size=params['batch_size'])\n",
    "\n",
    "valid_generator=train_datagen.flow_from_directory(\n",
    "    '../aug_data/aug_shape/',\n",
    "    subset='validation',\n",
    "    class_mode='categorical',\n",
    "    target_size=params['img_size'],\n",
    "    batch_size=params['batch_size'])"
   ]
  },
  {
   "cell_type": "code",
   "execution_count": 16,
   "metadata": {},
   "outputs": [],
   "source": [
    "# top-k\n",
    "from functools import partial\n",
    "top_2 = partial(keras.metrics.top_k_categorical_accuracy, k=2)\n",
    "top_2.__name__ = 'top_2'\n",
    "\n",
    "top_3 = partial(keras.metrics.top_k_categorical_accuracy, k=3)\n",
    "top_3.__name__ = 'top_3'\n",
    "\n",
    "top_5 = keras.metrics.top_k_categorical_accuracy\n",
    "top_5.__name__ = 'top_5'\n",
    "\n",
    "top_10 = partial(keras.metrics.top_k_categorical_accuracy, k=10)\n",
    "top_10.__name__ = 'top_10'"
   ]
  },
  {
   "cell_type": "code",
   "execution_count": 17,
   "metadata": {},
   "outputs": [
    {
     "name": "stdout",
     "output_type": "stream",
     "text": [
      "_________________________________________________________________\n",
      "Layer (type)                 Output Shape              Param #   \n",
      "=================================================================\n",
      "vgg16 (Model)                (None, 7, 7, 512)         14714688  \n",
      "_________________________________________________________________\n",
      "flatten_1 (Flatten)          (None, 25088)             0         \n",
      "_________________________________________________________________\n",
      "dense_1 (Dense)              (None, 4096)              102764544 \n",
      "_________________________________________________________________\n",
      "dropout_1 (Dropout)          (None, 4096)              0         \n",
      "_________________________________________________________________\n",
      "dense_2 (Dense)              (None, 1024)              4195328   \n",
      "_________________________________________________________________\n",
      "dropout_2 (Dropout)          (None, 1024)              0         \n",
      "_________________________________________________________________\n",
      "dense_3 (Dense)              (None, 11)                11275     \n",
      "=================================================================\n",
      "Total params: 121,685,835\n",
      "Trainable params: 121,685,835\n",
      "Non-trainable params: 0\n",
      "_________________________________________________________________\n",
      "Epoch 1/20\n",
      "2933/2933 [==============================] - 846s 288ms/step - loss: 0.3151 - acc: 0.8978 - top_2: 0.9544 - top_3: 0.9730 - val_loss: 0.8443 - val_acc: 0.8568 - val_top_2: 0.9106 - val_top_3: 0.9357\n",
      "\n",
      "Epoch 00001: saving model to ../save_model\\VGG16_shape_ep001_vloss-0.8443_vacc-0.8568.h5\n",
      "Epoch 2/20\n",
      "2933/2933 [==============================] - 836s 285ms/step - loss: 0.1020 - acc: 0.9695 - top_2: 0.9942 - top_3: 0.9978 - val_loss: 0.9321 - val_acc: 0.8665 - val_top_2: 0.9212 - val_top_3: 0.9440\n",
      "\n",
      "Epoch 00002: saving model to ../save_model\\VGG16_shape_ep002_vloss-0.9321_vacc-0.8665.h5\n",
      "Epoch 3/20\n",
      "2933/2933 [==============================] - 833s 284ms/step - loss: 0.0957 - acc: 0.9735 - top_2: 0.9953 - top_3: 0.9982 - val_loss: 1.1425 - val_acc: 0.8723 - val_top_2: 0.9192 - val_top_3: 0.9431\n",
      "\n",
      "Epoch 00003: saving model to ../save_model\\VGG16_shape_ep003_vloss-1.1425_vacc-0.8723.h5\n",
      "Epoch 4/20\n",
      "2933/2933 [==============================] - 833s 284ms/step - loss: 0.1028 - acc: 0.9728 - top_2: 0.9951 - top_3: 0.9984 - val_loss: 1.0353 - val_acc: 0.8665 - val_top_2: 0.9192 - val_top_3: 0.9408\n",
      "\n",
      "Epoch 00004: saving model to ../save_model\\VGG16_shape_ep004_vloss-1.0353_vacc-0.8665.h5\n",
      "Epoch 5/20\n",
      "2933/2933 [==============================] - 832s 284ms/step - loss: 0.1285 - acc: 0.9690 - top_2: 0.9938 - top_3: 0.9980 - val_loss: 1.2211 - val_acc: 0.8429 - val_top_2: 0.9033 - val_top_3: 0.9244\n",
      "\n",
      "Epoch 00005: saving model to ../save_model\\VGG16_shape_ep005_vloss-1.2211_vacc-0.8429.h5\n",
      "Epoch 6/20\n",
      "2933/2933 [==============================] - 832s 284ms/step - loss: 0.1483 - acc: 0.9656 - top_2: 0.9928 - top_3: 0.9973 - val_loss: 1.2841 - val_acc: 0.8737 - val_top_2: 0.9304 - val_top_3: 0.9597\n",
      "\n",
      "Epoch 00006: saving model to ../save_model\\VGG16_shape_ep006_vloss-1.2841_vacc-0.8737.h5\n",
      "Epoch 7/20\n",
      "2933/2933 [==============================] - 832s 284ms/step - loss: 0.1783 - acc: 0.9605 - top_2: 0.9911 - top_3: 0.9966 - val_loss: 1.0867 - val_acc: 0.8693 - val_top_2: 0.9266 - val_top_3: 0.9527\n",
      "\n",
      "Epoch 00007: saving model to ../save_model\\VGG16_shape_ep007_vloss-1.0867_vacc-0.8693.h5\n",
      "Epoch 8/20\n",
      "2933/2933 [==============================] - 832s 284ms/step - loss: 0.2098 - acc: 0.9557 - top_2: 0.9900 - top_3: 0.9962 - val_loss: 0.8973 - val_acc: 0.8230 - val_top_2: 0.8743 - val_top_3: 0.9019\n",
      "\n",
      "Epoch 00008: saving model to ../save_model\\VGG16_shape_ep008_vloss-0.8973_vacc-0.8230.h5\n",
      "Epoch 9/20\n",
      "2933/2933 [==============================] - 832s 284ms/step - loss: 0.2339 - acc: 0.9510 - top_2: 0.9876 - top_3: 0.9949 - val_loss: 1.1041 - val_acc: 0.8414 - val_top_2: 0.9086 - val_top_3: 0.9448\n",
      "\n",
      "Epoch 00009: saving model to ../save_model\\VGG16_shape_ep009_vloss-1.1041_vacc-0.8414.h5\n",
      "Epoch 10/20\n",
      "2933/2933 [==============================] - 832s 284ms/step - loss: 0.2758 - acc: 0.9458 - top_2: 0.9856 - top_3: 0.9941 - val_loss: 0.9053 - val_acc: 0.8650 - val_top_2: 0.9221 - val_top_3: 0.9487\n",
      "\n",
      "Epoch 00010: saving model to ../save_model\\VGG16_shape_ep010_vloss-0.9053_vacc-0.8650.h5\n",
      "Epoch 11/20\n",
      "1879/2933 [==================>...........] - ETA: 4:36 - loss: 0.2858 - acc: 0.9455 - top_2: 0.9854 - top_3: 0.9941"
     ]
    },
    {
     "ename": "KeyboardInterrupt",
     "evalue": "",
     "output_type": "error",
     "traceback": [
      "\u001b[1;31m---------------------------------------------------------------------------\u001b[0m",
      "\u001b[1;31mKeyboardInterrupt\u001b[0m                         Traceback (most recent call last)",
      "\u001b[1;32m<ipython-input-17-2f56b1002955>\u001b[0m in \u001b[0;36m<module>\u001b[1;34m\u001b[0m\n\u001b[0;32m     36\u001b[0m                               \u001b[0mepochs\u001b[0m\u001b[1;33m=\u001b[0m\u001b[0mparams\u001b[0m\u001b[1;33m[\u001b[0m\u001b[1;34m'epochs'\u001b[0m\u001b[1;33m]\u001b[0m\u001b[1;33m,\u001b[0m\u001b[1;33m\u001b[0m\u001b[1;33m\u001b[0m\u001b[0m\n\u001b[0;32m     37\u001b[0m                               \u001b[0mcallbacks\u001b[0m\u001b[1;33m=\u001b[0m\u001b[1;33m[\u001b[0m\u001b[0mcheckpoint\u001b[0m\u001b[1;33m]\u001b[0m\u001b[1;33m,\u001b[0m\u001b[1;33m\u001b[0m\u001b[1;33m\u001b[0m\u001b[0m\n\u001b[1;32m---> 38\u001b[1;33m                               workers=params['nb_workers'])\n\u001b[0m",
      "\u001b[1;32m~\\Anaconda3\\lib\\site-packages\\keras\\legacy\\interfaces.py\u001b[0m in \u001b[0;36mwrapper\u001b[1;34m(*args, **kwargs)\u001b[0m\n\u001b[0;32m     89\u001b[0m                 warnings.warn('Update your `' + object_name + '` call to the ' +\n\u001b[0;32m     90\u001b[0m                               'Keras 2 API: ' + signature, stacklevel=2)\n\u001b[1;32m---> 91\u001b[1;33m             \u001b[1;32mreturn\u001b[0m \u001b[0mfunc\u001b[0m\u001b[1;33m(\u001b[0m\u001b[1;33m*\u001b[0m\u001b[0margs\u001b[0m\u001b[1;33m,\u001b[0m \u001b[1;33m**\u001b[0m\u001b[0mkwargs\u001b[0m\u001b[1;33m)\u001b[0m\u001b[1;33m\u001b[0m\u001b[1;33m\u001b[0m\u001b[0m\n\u001b[0m\u001b[0;32m     92\u001b[0m         \u001b[0mwrapper\u001b[0m\u001b[1;33m.\u001b[0m\u001b[0m_original_function\u001b[0m \u001b[1;33m=\u001b[0m \u001b[0mfunc\u001b[0m\u001b[1;33m\u001b[0m\u001b[1;33m\u001b[0m\u001b[0m\n\u001b[0;32m     93\u001b[0m         \u001b[1;32mreturn\u001b[0m \u001b[0mwrapper\u001b[0m\u001b[1;33m\u001b[0m\u001b[1;33m\u001b[0m\u001b[0m\n",
      "\u001b[1;32m~\\Anaconda3\\lib\\site-packages\\keras\\engine\\training.py\u001b[0m in \u001b[0;36mfit_generator\u001b[1;34m(self, generator, steps_per_epoch, epochs, verbose, callbacks, validation_data, validation_steps, class_weight, max_queue_size, workers, use_multiprocessing, shuffle, initial_epoch)\u001b[0m\n\u001b[0;32m   1416\u001b[0m             \u001b[0muse_multiprocessing\u001b[0m\u001b[1;33m=\u001b[0m\u001b[0muse_multiprocessing\u001b[0m\u001b[1;33m,\u001b[0m\u001b[1;33m\u001b[0m\u001b[1;33m\u001b[0m\u001b[0m\n\u001b[0;32m   1417\u001b[0m             \u001b[0mshuffle\u001b[0m\u001b[1;33m=\u001b[0m\u001b[0mshuffle\u001b[0m\u001b[1;33m,\u001b[0m\u001b[1;33m\u001b[0m\u001b[1;33m\u001b[0m\u001b[0m\n\u001b[1;32m-> 1418\u001b[1;33m             initial_epoch=initial_epoch)\n\u001b[0m\u001b[0;32m   1419\u001b[0m \u001b[1;33m\u001b[0m\u001b[0m\n\u001b[0;32m   1420\u001b[0m     \u001b[1;33m@\u001b[0m\u001b[0minterfaces\u001b[0m\u001b[1;33m.\u001b[0m\u001b[0mlegacy_generator_methods_support\u001b[0m\u001b[1;33m\u001b[0m\u001b[1;33m\u001b[0m\u001b[0m\n",
      "\u001b[1;32m~\\Anaconda3\\lib\\site-packages\\keras\\engine\\training_generator.py\u001b[0m in \u001b[0;36mfit_generator\u001b[1;34m(model, generator, steps_per_epoch, epochs, verbose, callbacks, validation_data, validation_steps, class_weight, max_queue_size, workers, use_multiprocessing, shuffle, initial_epoch)\u001b[0m\n\u001b[0;32m    215\u001b[0m                 outs = model.train_on_batch(x, y,\n\u001b[0;32m    216\u001b[0m                                             \u001b[0msample_weight\u001b[0m\u001b[1;33m=\u001b[0m\u001b[0msample_weight\u001b[0m\u001b[1;33m,\u001b[0m\u001b[1;33m\u001b[0m\u001b[1;33m\u001b[0m\u001b[0m\n\u001b[1;32m--> 217\u001b[1;33m                                             class_weight=class_weight)\n\u001b[0m\u001b[0;32m    218\u001b[0m \u001b[1;33m\u001b[0m\u001b[0m\n\u001b[0;32m    219\u001b[0m                 \u001b[0mouts\u001b[0m \u001b[1;33m=\u001b[0m \u001b[0mto_list\u001b[0m\u001b[1;33m(\u001b[0m\u001b[0mouts\u001b[0m\u001b[1;33m)\u001b[0m\u001b[1;33m\u001b[0m\u001b[1;33m\u001b[0m\u001b[0m\n",
      "\u001b[1;32m~\\Anaconda3\\lib\\site-packages\\keras\\engine\\training.py\u001b[0m in \u001b[0;36mtrain_on_batch\u001b[1;34m(self, x, y, sample_weight, class_weight)\u001b[0m\n\u001b[0;32m   1215\u001b[0m             \u001b[0mins\u001b[0m \u001b[1;33m=\u001b[0m \u001b[0mx\u001b[0m \u001b[1;33m+\u001b[0m \u001b[0my\u001b[0m \u001b[1;33m+\u001b[0m \u001b[0msample_weights\u001b[0m\u001b[1;33m\u001b[0m\u001b[1;33m\u001b[0m\u001b[0m\n\u001b[0;32m   1216\u001b[0m         \u001b[0mself\u001b[0m\u001b[1;33m.\u001b[0m\u001b[0m_make_train_function\u001b[0m\u001b[1;33m(\u001b[0m\u001b[1;33m)\u001b[0m\u001b[1;33m\u001b[0m\u001b[1;33m\u001b[0m\u001b[0m\n\u001b[1;32m-> 1217\u001b[1;33m         \u001b[0moutputs\u001b[0m \u001b[1;33m=\u001b[0m \u001b[0mself\u001b[0m\u001b[1;33m.\u001b[0m\u001b[0mtrain_function\u001b[0m\u001b[1;33m(\u001b[0m\u001b[0mins\u001b[0m\u001b[1;33m)\u001b[0m\u001b[1;33m\u001b[0m\u001b[1;33m\u001b[0m\u001b[0m\n\u001b[0m\u001b[0;32m   1218\u001b[0m         \u001b[1;32mreturn\u001b[0m \u001b[0munpack_singleton\u001b[0m\u001b[1;33m(\u001b[0m\u001b[0moutputs\u001b[0m\u001b[1;33m)\u001b[0m\u001b[1;33m\u001b[0m\u001b[1;33m\u001b[0m\u001b[0m\n\u001b[0;32m   1219\u001b[0m \u001b[1;33m\u001b[0m\u001b[0m\n",
      "\u001b[1;32m~\\Anaconda3\\lib\\site-packages\\keras\\backend\\tensorflow_backend.py\u001b[0m in \u001b[0;36m__call__\u001b[1;34m(self, inputs)\u001b[0m\n\u001b[0;32m   2713\u001b[0m                 \u001b[1;32mreturn\u001b[0m \u001b[0mself\u001b[0m\u001b[1;33m.\u001b[0m\u001b[0m_legacy_call\u001b[0m\u001b[1;33m(\u001b[0m\u001b[0minputs\u001b[0m\u001b[1;33m)\u001b[0m\u001b[1;33m\u001b[0m\u001b[1;33m\u001b[0m\u001b[0m\n\u001b[0;32m   2714\u001b[0m \u001b[1;33m\u001b[0m\u001b[0m\n\u001b[1;32m-> 2715\u001b[1;33m             \u001b[1;32mreturn\u001b[0m \u001b[0mself\u001b[0m\u001b[1;33m.\u001b[0m\u001b[0m_call\u001b[0m\u001b[1;33m(\u001b[0m\u001b[0minputs\u001b[0m\u001b[1;33m)\u001b[0m\u001b[1;33m\u001b[0m\u001b[1;33m\u001b[0m\u001b[0m\n\u001b[0m\u001b[0;32m   2716\u001b[0m         \u001b[1;32melse\u001b[0m\u001b[1;33m:\u001b[0m\u001b[1;33m\u001b[0m\u001b[1;33m\u001b[0m\u001b[0m\n\u001b[0;32m   2717\u001b[0m             \u001b[1;32mif\u001b[0m \u001b[0mpy_any\u001b[0m\u001b[1;33m(\u001b[0m\u001b[0mis_tensor\u001b[0m\u001b[1;33m(\u001b[0m\u001b[0mx\u001b[0m\u001b[1;33m)\u001b[0m \u001b[1;32mfor\u001b[0m \u001b[0mx\u001b[0m \u001b[1;32min\u001b[0m \u001b[0minputs\u001b[0m\u001b[1;33m)\u001b[0m\u001b[1;33m:\u001b[0m\u001b[1;33m\u001b[0m\u001b[1;33m\u001b[0m\u001b[0m\n",
      "\u001b[1;32m~\\Anaconda3\\lib\\site-packages\\keras\\backend\\tensorflow_backend.py\u001b[0m in \u001b[0;36m_call\u001b[1;34m(self, inputs)\u001b[0m\n\u001b[0;32m   2673\u001b[0m             \u001b[0mfetched\u001b[0m \u001b[1;33m=\u001b[0m \u001b[0mself\u001b[0m\u001b[1;33m.\u001b[0m\u001b[0m_callable_fn\u001b[0m\u001b[1;33m(\u001b[0m\u001b[1;33m*\u001b[0m\u001b[0marray_vals\u001b[0m\u001b[1;33m,\u001b[0m \u001b[0mrun_metadata\u001b[0m\u001b[1;33m=\u001b[0m\u001b[0mself\u001b[0m\u001b[1;33m.\u001b[0m\u001b[0mrun_metadata\u001b[0m\u001b[1;33m)\u001b[0m\u001b[1;33m\u001b[0m\u001b[1;33m\u001b[0m\u001b[0m\n\u001b[0;32m   2674\u001b[0m         \u001b[1;32melse\u001b[0m\u001b[1;33m:\u001b[0m\u001b[1;33m\u001b[0m\u001b[1;33m\u001b[0m\u001b[0m\n\u001b[1;32m-> 2675\u001b[1;33m             \u001b[0mfetched\u001b[0m \u001b[1;33m=\u001b[0m \u001b[0mself\u001b[0m\u001b[1;33m.\u001b[0m\u001b[0m_callable_fn\u001b[0m\u001b[1;33m(\u001b[0m\u001b[1;33m*\u001b[0m\u001b[0marray_vals\u001b[0m\u001b[1;33m)\u001b[0m\u001b[1;33m\u001b[0m\u001b[1;33m\u001b[0m\u001b[0m\n\u001b[0m\u001b[0;32m   2676\u001b[0m         \u001b[1;32mreturn\u001b[0m \u001b[0mfetched\u001b[0m\u001b[1;33m[\u001b[0m\u001b[1;33m:\u001b[0m\u001b[0mlen\u001b[0m\u001b[1;33m(\u001b[0m\u001b[0mself\u001b[0m\u001b[1;33m.\u001b[0m\u001b[0moutputs\u001b[0m\u001b[1;33m)\u001b[0m\u001b[1;33m]\u001b[0m\u001b[1;33m\u001b[0m\u001b[1;33m\u001b[0m\u001b[0m\n\u001b[0;32m   2677\u001b[0m \u001b[1;33m\u001b[0m\u001b[0m\n",
      "\u001b[1;32m~\\Anaconda3\\lib\\site-packages\\tensorflow\\python\\client\\session.py\u001b[0m in \u001b[0;36m__call__\u001b[1;34m(self, *args, **kwargs)\u001b[0m\n\u001b[0;32m   1437\u001b[0m           ret = tf_session.TF_SessionRunCallable(\n\u001b[0;32m   1438\u001b[0m               \u001b[0mself\u001b[0m\u001b[1;33m.\u001b[0m\u001b[0m_session\u001b[0m\u001b[1;33m.\u001b[0m\u001b[0m_session\u001b[0m\u001b[1;33m,\u001b[0m \u001b[0mself\u001b[0m\u001b[1;33m.\u001b[0m\u001b[0m_handle\u001b[0m\u001b[1;33m,\u001b[0m \u001b[0margs\u001b[0m\u001b[1;33m,\u001b[0m \u001b[0mstatus\u001b[0m\u001b[1;33m,\u001b[0m\u001b[1;33m\u001b[0m\u001b[1;33m\u001b[0m\u001b[0m\n\u001b[1;32m-> 1439\u001b[1;33m               run_metadata_ptr)\n\u001b[0m\u001b[0;32m   1440\u001b[0m         \u001b[1;32mif\u001b[0m \u001b[0mrun_metadata\u001b[0m\u001b[1;33m:\u001b[0m\u001b[1;33m\u001b[0m\u001b[1;33m\u001b[0m\u001b[0m\n\u001b[0;32m   1441\u001b[0m           \u001b[0mproto_data\u001b[0m \u001b[1;33m=\u001b[0m \u001b[0mtf_session\u001b[0m\u001b[1;33m.\u001b[0m\u001b[0mTF_GetBuffer\u001b[0m\u001b[1;33m(\u001b[0m\u001b[0mrun_metadata_ptr\u001b[0m\u001b[1;33m)\u001b[0m\u001b[1;33m\u001b[0m\u001b[1;33m\u001b[0m\u001b[0m\n",
      "\u001b[1;31mKeyboardInterrupt\u001b[0m: "
     ]
    }
   ],
   "source": [
    "######################## VGG16 #########################\n",
    "from keras.applications import VGG16\n",
    "cnn_model = VGG16(include_top=False, weights='imagenet', input_shape=params['input_shape'])\n",
    "cnn_model.trainable = True\n",
    "model = Sequential()\n",
    "model.add(cnn_model)\n",
    "model.add(layers.Flatten())\n",
    "model.add(layers.Dense(4096, activation='relu'))\n",
    "model.add(layers.Dropout(0.5))\n",
    "model.add(layers.Dense(1024, activation='relu'))\n",
    "model.add(layers.Dropout(0.5))\n",
    "model.add(layers.Dense(11, activation='softmax', kernel_initializer='he_normal'))\n",
    "model.summary()\n",
    "\n",
    "# ###\n",
    "# dependencies = {\n",
    "#     'top_2': top_2,\n",
    "#     'top_3': top_3,\n",
    "#     'top_5': top_5\n",
    "# }\n",
    "\n",
    "# model = keras.models.load_model(os.path.join(SAVE_PATH, 'VGG16_shape_ep005_vloss-1.3428_vacc-0.6989.h5'), custom_objects=dependencies)\n",
    "# ###\n",
    "filepath = os.path.join(SAVE_PATH, 'VGG16_shape_ep{epoch:03d}_vloss-{val_loss:.4f}_vacc-{val_acc:.4f}.h5')\n",
    "\n",
    "checkpoint = ModelCheckpoint(filepath=filepath, monitor='val_acc', verbose=1, save_best_only=False)\n",
    "# earlystop = EarlyStopping(monitor='val_acc', min_delta=0, patience=5, verbose=1, mode='auto')\n",
    "\n",
    "model.compile(loss='categorical_crossentropy', optimizer=optimizers.RMSprop(lr=2e-5), metrics=['acc', top_2, top_3])\n",
    "# model.compile(loss='categorical_crossentropy', optimizer=optimizers.RMSprop(lr=2e-6), metrics=['acc', top_2, top_3])\n",
    "\n",
    "history = model.fit_generator(train_generator,\n",
    "                              steps_per_epoch = train_generator.samples // params['batch_size'],\n",
    "                              validation_data=valid_generator, \n",
    "                              validation_steps = valid_generator.samples // params['batch_size'],\n",
    "                              epochs=params['epochs'],\n",
    "                              callbacks=[checkpoint],\n",
    "                              workers=params['nb_workers'])\n"
   ]
  },
  {
   "cell_type": "code",
   "execution_count": 7,
   "metadata": {},
   "outputs": [],
   "source": [
    "def get_steps(num_samples, batch_size):\n",
    "    if (num_samples % batch_size) > 0 :\n",
    "        return (num_samples // batch_size) + 1\n",
    "    else :\n",
    "        return num_samples // batch_size"
   ]
  },
  {
   "cell_type": "code",
   "execution_count": 8,
   "metadata": {},
   "outputs": [
    {
     "name": "stdout",
     "output_type": "stream",
     "text": [
      "Found 20959 validated image filenames.\n",
      "WARNING:tensorflow:From C:\\Users\\secre\\Anaconda3\\lib\\site-packages\\tensorflow\\python\\framework\\op_def_library.py:263: colocate_with (from tensorflow.python.framework.ops) is deprecated and will be removed in a future version.\n",
      "Instructions for updating:\n",
      "Colocations handled automatically by placer.\n",
      "WARNING:tensorflow:From C:\\Users\\secre\\Anaconda3\\lib\\site-packages\\keras\\backend\\tensorflow_backend.py:3445: calling dropout (from tensorflow.python.ops.nn_ops) with keep_prob is deprecated and will be removed in a future version.\n",
      "Instructions for updating:\n",
      "Please use `rate` instead of `keep_prob`. Rate should be set to `rate = 1 - keep_prob`.\n",
      "WARNING:tensorflow:From C:\\Users\\secre\\Anaconda3\\lib\\site-packages\\tensorflow\\python\\ops\\math_ops.py:3066: to_int32 (from tensorflow.python.ops.math_ops) is deprecated and will be removed in a future version.\n",
      "Instructions for updating:\n",
      "Use tf.cast instead.\n",
      "874/874 [==============================] - 78s 89ms/step\n"
     ]
    }
   ],
   "source": [
    "dataset_test = pd.read_csv(os.path.join(LABEL_PATH,'shape_color_prediction.csv'))\n",
    "dataset_test = dataset_test[['No']]\n",
    "\n",
    "from keras.models import load_model\n",
    "params.update({\n",
    "    'nb_test_samples': len(dataset_test)\n",
    "})\n",
    "\n",
    "test_datagen = ImageDataGenerator(rescale=1./255)\n",
    "test_generator = test_datagen.flow_from_dataframe(\n",
    "    dataframe=dataset_test,\n",
    "    directory=DATA_PATH,\n",
    "    x_col='No',\n",
    "    y_col=None,\n",
    "    target_size=params['img_size'],\n",
    "    class_mode=None,\n",
    "    batch_size=params['batch_size'],\n",
    "    shuffle=False)\n",
    "\n",
    "dependencies = {\n",
    "    'top_2': top_2,\n",
    "    'top_3': top_3,\n",
    "    'top_5': top_5\n",
    "}\n",
    "\n",
    "model = keras.models.load_model(os.path.join(SAVE_PATH, 'VGG16_shape_ep004_vloss-0.9149_vacc-0.8872.h5'), custom_objects=dependencies)\n",
    "\n",
    "\n",
    "\n",
    "prediction = model.predict_generator(generator = test_generator,\n",
    "                                     steps = get_steps(params['nb_test_samples'], params['batch_size']),\n",
    "                                     verbose=1,\n",
    "                                     workers=params['nb_workers'])"
   ]
  },
  {
   "cell_type": "code",
   "execution_count": 9,
   "metadata": {},
   "outputs": [],
   "source": [
    "predicted_class_indices=np.argmax(prediction, axis=1)\n",
    "\n",
    "# Generator class dictionary mapping\n",
    "labels = (train_generator.class_indices)\n",
    "labels = dict((v, k) for k,v in labels.items())\n",
    "predictions = [labels[k] for k in predicted_class_indices]\n",
    "len(predictions)\n",
    "submission = pd.read_csv(os.path.join(LABEL_PATH, 'shape_color_prediction.csv'))\n",
    "submission['aug_shape_top1'] = predictions\n",
    "submission.to_csv(os.path.join(LABEL_PATH, 'shape_color_prediction.csv'), index=False)"
   ]
  },
  {
   "cell_type": "code",
   "execution_count": null,
   "metadata": {},
   "outputs": [],
   "source": [
    "# def top_k_label(K):\n",
    "#     top_list = []\n",
    "#     predicted_class_indices=np.argmax(prediction, axis=1)\n",
    "#     labels = (train_generator.class_indices)\n",
    "#     labels = dict((v,k) for k,v in labels.items())\n",
    "#     class_probs = prediction\n",
    "#     for i, l in enumerate(predictions): # idx, label\n",
    "#         class_prob = class_probs[i]\n",
    "#         top_values = (-class_prob).argsort()[:K].tolist() # k 개까지 높은 확률 인덱스 저장\n",
    "#         top_list.append(top_values)\n",
    "        \n",
    "#     top_arr = np.zeros((len(top_list), K))\n",
    "    \n",
    "#     for i in range(len(top_list)): # key - values 값 바꾸기\n",
    "#         for j in range(K):\n",
    "#             tmp = top_list[i][j]\n",
    "#             top_arr[i][j] = labels[tmp]\n",
    "    \n",
    "#     label_list = top_arr.tolist()\n",
    "#     return label_list\n",
    "\n",
    "\n",
    "# # top_k_label(3)"
   ]
  },
  {
   "cell_type": "code",
   "execution_count": null,
   "metadata": {},
   "outputs": [],
   "source": [
    "# # top-k csv파일에 저장하기\n",
    "\n",
    "# df = pd.read_csv(os.path.join(LABEL_PATH,'shape_color_prediction.csv'))\n",
    "# df['aug_color_top3'] = top_k_label(3)\n",
    "# df.to_csv(os.path.join(LABEL_PATH, 'shape_color_prediction.csv'), index=False)\n",
    "# df.head()"
   ]
  },
  {
   "cell_type": "code",
   "execution_count": 10,
   "metadata": {},
   "outputs": [
    {
     "name": "stdout",
     "output_type": "stream",
     "text": [
      "0.9554368051910873\n"
     ]
    }
   ],
   "source": [
    "df = pd.read_csv(os.path.join(LABEL_PATH,'shape_color_prediction.csv'))\n",
    "count = 0\n",
    "for i in range(len(df)):\n",
    "    if df['shape'][i] == df['aug_shape_top1'][i]:\n",
    "        count += 1\n",
    "print(count/len(df))"
   ]
  },
  {
   "cell_type": "code",
   "execution_count": null,
   "metadata": {},
   "outputs": [],
   "source": []
  }
 ],
 "metadata": {
  "kernelspec": {
   "display_name": "Python 3",
   "language": "python",
   "name": "python3"
  },
  "language_info": {
   "codemirror_mode": {
    "name": "ipython",
    "version": 3
   },
   "file_extension": ".py",
   "mimetype": "text/x-python",
   "name": "python",
   "nbconvert_exporter": "python",
   "pygments_lexer": "ipython3",
   "version": "3.7.3"
  }
 },
 "nbformat": 4,
 "nbformat_minor": 2
}
