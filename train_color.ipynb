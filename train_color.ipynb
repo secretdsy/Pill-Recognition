{
 "cells": [
  {
   "cell_type": "code",
   "execution_count": 1,
   "metadata": {},
   "outputs": [
    {
     "name": "stderr",
     "output_type": "stream",
     "text": [
      "Using TensorFlow backend.\n"
     ]
    }
   ],
   "source": [
    "import pandas as pd\n",
    "import os\n",
    "import urllib\n",
    "import pdb\n",
    "import cv2\n",
    "import numpy as np\n",
    "import math\n",
    "from matplotlib import pyplot as plt\n",
    "\n",
    "from keras import layers, models\n",
    "from keras.applications import VGG16\n",
    "from keras import Input\n",
    "from keras.models import Model\n",
    "from keras.models import Sequential\n",
    "from keras.preprocessing.image import ImageDataGenerator\n",
    "from keras import optimizers, initializers, regularizers, metrics\n",
    "from keras.callbacks import ModelCheckpoint\n",
    "from keras_preprocessing.image import ImageDataGenerator\n",
    "\n",
    "from keras.layers import Conv2D, MaxPooling2D\n",
    "from keras.layers import Dense, Dropout, Activation, Flatten\n",
    "from keras.layers import Conv2D, MaxPooling2D\n",
    "from keras.utils import np_utils"
   ]
  },
  {
   "cell_type": "code",
   "execution_count": 2,
   "metadata": {},
   "outputs": [
    {
     "data": {
      "text/plain": [
       "{'갈색': 11,\n",
       " '검정': 13,\n",
       " '남색': 7,\n",
       " '노랑': 2,\n",
       " '보라': 8,\n",
       " '분홍': 9,\n",
       " '빨강': 0,\n",
       " '연두': 3,\n",
       " '자주': 10,\n",
       " '주황': 1,\n",
       " '청록': 5,\n",
       " '초록': 4,\n",
       " '투명': 15,\n",
       " '파랑': 6,\n",
       " '하양': 14,\n",
       " '회색': 12}"
      ]
     },
     "execution_count": 2,
     "metadata": {},
     "output_type": "execute_result"
    }
   ],
   "source": [
    "color_label = {'빨강': 0, '주황': 1, '노랑': 2, '연두': 3, '초록': 4, \n",
    "               '청록': 5, '파랑': 6, '남색': 7, '보라': 8, '분홍': 9,\n",
    "               '자주': 10,'갈색': 11, '회색': 12, '검정': 13, '하양': 14, '투명': 15}\n",
    "#color_label"
   ]
  },
  {
   "cell_type": "code",
   "execution_count": 3,
   "metadata": {},
   "outputs": [],
   "source": [
    "\"\"\"\n",
    "label_path = './label/label_color.xls'\n",
    "xls = pd.read_excel(label_path)\n",
    "df1 = pd.DataFrame(xls)\n",
    "#print(df1)\n",
    "\n",
    "df2 = df1[df1.columns[-1]].map(color_label)\n",
    "df2 = pd.DataFrame(df2)\n",
    "df1['color_front'] = df2['color_front']\n",
    "#print(df1)\n",
    "\n",
    "# cvs 파일로 만들기\n",
    "\n",
    "type(df1)\n",
    "df1.to_csv(\"./label/color.csv\", mode='w')\n",
    "\"\"\"\n",
    "\n",
    "dataset = pd.read_csv(\"./label/color.csv\")"
   ]
  },
  {
   "cell_type": "code",
   "execution_count": 4,
   "metadata": {},
   "outputs": [
    {
     "name": "stderr",
     "output_type": "stream",
     "text": [
      "/usr/local/lib/python3.5/dist-packages/keras_preprocessing/image.py:2059: SettingWithCopyWarning: \n",
      "A value is trying to be set on a copy of a slice from a DataFrame.\n",
      "Try using .loc[row_indexer,col_indexer] = value instead\n",
      "\n",
      "See the caveats in the documentation: http://pandas.pydata.org/pandas-docs/stable/indexing.html#indexing-view-versus-copy\n",
      "  self.df[x_col] = self.df[x_col].astype(str)\n"
     ]
    },
    {
     "name": "stdout",
     "output_type": "stream",
     "text": [
      "Found 16257 images belonging to 17 classes.\n",
      "Found 4147 images belonging to 17 classes.\n"
     ]
    }
   ],
   "source": [
    "datagen=ImageDataGenerator(rescale=1./255, validation_split=0.2)\n",
    "train_generator=datagen.flow_from_dataframe(dataframe=dataset,\n",
    "                                            directory=\"./mask/\",\n",
    "                                            x_col=\"No\",\n",
    "                                            y_col=\"color_front\",\n",
    "                                            has_ext=False,\n",
    "                                            subset=\"training\",\n",
    "                                            class_mode=\"categorical\",\n",
    "                                            target_size=(224,224),\n",
    "                                            batch_size=32)\n",
    "\n",
    "valid_generator=datagen.flow_from_dataframe(dataframe=dataset,\n",
    "                                            directory=\"./mask/\",\n",
    "                                            x_col=\"No\",\n",
    "                                            y_col=\"color_front\",\n",
    "                                            has_ext=False,\n",
    "                                            subset=\"validation\",\n",
    "                                            class_mode=\"categorical\",\n",
    "                                            target_size=(224,224),\n",
    "                                            batch_size=32)"
   ]
  },
  {
   "cell_type": "code",
   "execution_count": 6,
   "metadata": {},
   "outputs": [
    {
     "name": "stdout",
     "output_type": "stream",
     "text": [
      "_________________________________________________________________\n",
      "Layer (type)                 Output Shape              Param #   \n",
      "=================================================================\n",
      "input_2 (InputLayer)         (None, 224, 224, 3)       0         \n",
      "_________________________________________________________________\n",
      "block1_conv1 (Conv2D)        (None, 224, 224, 64)      1792      \n",
      "_________________________________________________________________\n",
      "block1_conv2 (Conv2D)        (None, 224, 224, 64)      36928     \n",
      "_________________________________________________________________\n",
      "block1_pool (MaxPooling2D)   (None, 112, 112, 64)      0         \n",
      "_________________________________________________________________\n",
      "block2_conv1 (Conv2D)        (None, 112, 112, 128)     73856     \n",
      "_________________________________________________________________\n",
      "block2_conv2 (Conv2D)        (None, 112, 112, 128)     147584    \n",
      "_________________________________________________________________\n",
      "block2_pool (MaxPooling2D)   (None, 56, 56, 128)       0         \n",
      "_________________________________________________________________\n",
      "block3_conv1 (Conv2D)        (None, 56, 56, 256)       295168    \n",
      "_________________________________________________________________\n",
      "block3_conv2 (Conv2D)        (None, 56, 56, 256)       590080    \n",
      "_________________________________________________________________\n",
      "block3_conv3 (Conv2D)        (None, 56, 56, 256)       590080    \n",
      "_________________________________________________________________\n",
      "block3_pool (MaxPooling2D)   (None, 28, 28, 256)       0         \n",
      "_________________________________________________________________\n",
      "block4_conv1 (Conv2D)        (None, 28, 28, 512)       1180160   \n",
      "_________________________________________________________________\n",
      "block4_conv2 (Conv2D)        (None, 28, 28, 512)       2359808   \n",
      "_________________________________________________________________\n",
      "block4_conv3 (Conv2D)        (None, 28, 28, 512)       2359808   \n",
      "_________________________________________________________________\n",
      "block4_pool (MaxPooling2D)   (None, 14, 14, 512)       0         \n",
      "_________________________________________________________________\n",
      "block5_conv1 (Conv2D)        (None, 14, 14, 512)       2359808   \n",
      "_________________________________________________________________\n",
      "block5_conv2 (Conv2D)        (None, 14, 14, 512)       2359808   \n",
      "_________________________________________________________________\n",
      "block5_conv3 (Conv2D)        (None, 14, 14, 512)       2359808   \n",
      "_________________________________________________________________\n",
      "block5_pool (MaxPooling2D)   (None, 7, 7, 512)         0         \n",
      "=================================================================\n",
      "Total params: 14,714,688\n",
      "Trainable params: 14,714,688\n",
      "Non-trainable params: 0\n",
      "_________________________________________________________________\n",
      "_________________________________________________________________\n",
      "Layer (type)                 Output Shape              Param #   \n",
      "=================================================================\n",
      "vgg16 (Model)                (None, 7, 7, 512)         14714688  \n",
      "_________________________________________________________________\n",
      "flatten_2 (Flatten)          (None, 25088)             0         \n",
      "_________________________________________________________________\n",
      "dense_3 (Dense)              (None, 1024)              25691136  \n",
      "_________________________________________________________________\n",
      "dense_4 (Dense)              (None, 17)                17425     \n",
      "=================================================================\n",
      "Total params: 40,423,249\n",
      "Trainable params: 40,423,249\n",
      "Non-trainable params: 0\n",
      "_________________________________________________________________\n",
      "Epoch 1/10\n",
      "509/509 [==============================] - 261s 514ms/step - loss: 0.5378 - acc: 0.8267 - val_loss: 0.4597 - val_acc: 0.8630\n",
      "Epoch 2/10\n",
      "509/509 [==============================] - 257s 505ms/step - loss: 0.3038 - acc: 0.8981 - val_loss: 0.4374 - val_acc: 0.8585\n",
      "Epoch 3/10\n",
      "509/509 [==============================] - 257s 506ms/step - loss: 0.2564 - acc: 0.9128 - val_loss: 0.3621 - val_acc: 0.8932\n",
      "Epoch 4/10\n",
      "509/509 [==============================] - 260s 511ms/step - loss: 0.2303 - acc: 0.9206 - val_loss: 0.3665 - val_acc: 0.8929\n",
      "Epoch 5/10\n",
      "509/509 [==============================] - 258s 507ms/step - loss: 0.2043 - acc: 0.9298 - val_loss: 0.3920 - val_acc: 0.8934\n",
      "Epoch 6/10\n",
      "509/509 [==============================] - 257s 506ms/step - loss: 0.1898 - acc: 0.9339 - val_loss: 0.4100 - val_acc: 0.8859\n",
      "Epoch 7/10\n",
      "509/509 [==============================] - 257s 505ms/step - loss: 0.1820 - acc: 0.9367 - val_loss: 0.4520 - val_acc: 0.8724\n",
      "Epoch 8/10\n",
      "509/509 [==============================] - 257s 505ms/step - loss: 0.1649 - acc: 0.9438 - val_loss: 0.4708 - val_acc: 0.8908\n",
      "Epoch 9/10\n",
      "509/509 [==============================] - 257s 505ms/step - loss: 0.1517 - acc: 0.9468 - val_loss: 0.5615 - val_acc: 0.8968\n",
      "Epoch 10/10\n",
      "509/509 [==============================] - 257s 505ms/step - loss: 0.1458 - acc: 0.9503 - val_loss: 0.4880 - val_acc: 0.8908\n"
     ]
    }
   ],
   "source": [
    "pre_trained_vgg = VGG16(weights='imagenet', include_top=False, input_shape=(224, 224, 3))\n",
    "pre_trained_vgg.trainable = True\n",
    "pre_trained_vgg.summary()\n",
    " \n",
    "additional_model = models.Sequential()\n",
    "additional_model.add(pre_trained_vgg)\n",
    "additional_model.add(layers.Flatten())\n",
    "#additional_model.add(layers.Dense(4096, activation='relu'))\n",
    "#additional_model.add(layers.Dense(2048, activation='relu'))\n",
    "additional_model.add(layers.Dense(1024, activation='relu'))\n",
    "additional_model.add(layers.Dense(17, activation='softmax'))\n",
    " \n",
    "\n",
    "additional_model.summary()\n",
    " \n",
    "\n",
    "checkpoint = ModelCheckpoint(filepath='pretrained_VGG_weight.hdf5', \n",
    "            monitor='loss', \n",
    "            mode='min', \n",
    "            save_best_only=True)\n",
    " \n",
    "additional_model.compile(loss='categorical_crossentropy', optimizer=optimizers.RMSprop(lr=2e-5), metrics=['acc'])\n",
    "\n",
    "\n",
    "history = additional_model.fit_generator(train_generator, \n",
    "            steps_per_epoch=math.ceil(train_generator.n / train_generator.batch_size), \n",
    "            epochs=10, \n",
    "            validation_data=valid_generator, \n",
    "            validation_steps=math.ceil(valid_generator.n / valid_generator.batch_size), \n",
    "            callbacks=[checkpoint])"
   ]
  },
  {
   "cell_type": "code",
   "execution_count": 8,
   "metadata": {},
   "outputs": [
    {
     "data": {
      "image/png": "[encoded data removed]",
      "text/plain": [
       "<Figure size 432x288 with 1 Axes>"
      ]
     },
     "metadata": {
      "needs_background": "light"
     },
     "output_type": "display_data"
    },
    {
     "data": {
      "image/png": "[encoded data removed]",
      "text/plain": [
       "<Figure size 432x288 with 1 Axes>"
      ]
     },
     "metadata": {
      "needs_background": "light"
     },
     "output_type": "display_data"
    }
   ],
   "source": [
    "acc = history.history['acc']\n",
    "val_acc = history.history['val_acc']\n",
    "loss = history.history['loss']\n",
    "val_loss = history.history['val_loss']\n",
    " \n",
    "epochs = range(1, len(acc) + 1)\n",
    " \n",
    "plt.plot(epochs, acc, 'b', label='Training acc')\n",
    "plt.plot(epochs, val_acc, 'r', label='Validation acc')\n",
    "plt.title('Accuracy')\n",
    "plt.legend()\n",
    "plt.figure()\n",
    " \n",
    "plt.plot(epochs, loss, 'b', label='Training loss')\n",
    "plt.plot(epochs, val_loss, 'r', label='Validation loss')\n",
    "plt.title('Loss')\n",
    "plt.legend()\n",
    " \n",
    "plt.show() "
   ]
  },
  {
   "cell_type": "code",
   "execution_count": null,
   "metadata": {},
   "outputs": [],
   "source": []
  }
 ],
 "metadata": {
  "kernelspec": {
   "display_name": "Python 3",
   "language": "python",
   "name": "python3"
  },
  "language_info": {
   "codemirror_mode": {
    "name": "ipython",
    "version": 3
   },
   "file_extension": ".py",
   "mimetype": "text/x-python",
   "name": "python",
   "nbconvert_exporter": "python",
   "pygments_lexer": "ipython3",
   "version": "3.5.2"
  }
 },
 "nbformat": 4,
 "nbformat_minor": 2
}
